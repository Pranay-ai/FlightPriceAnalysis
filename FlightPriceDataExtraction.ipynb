{
 "cells": [
  {
   "cell_type": "markdown",
   "id": "2cff56b7",
   "metadata": {},
   "source": [
    "Importing Libraries"
   ]
  },
  {
   "cell_type": "code",
   "execution_count": 2,
   "id": "7e1da972-720b-488e-a7b4-a65f37ab25a1",
   "metadata": {},
   "outputs": [],
   "source": [
    "import pandas as pd\n",
    "import numpy as np\n",
    "import seaborn as sns\n",
    "import matplotlib.pyplot as plt\n",
    "from datetime import datetime\n",
    "import re\n",
    "from pyspark.sql.functions import udf,count,to_date,datediff,size, split, array_distinct\n",
    "from pyspark.sql.types import StringType,IntegerType\n",
    "from pyspark.ml.feature import StringIndexer\n",
    "from pyspark.sql.functions import col"
   ]
  },
  {
   "cell_type": "code",
   "execution_count": 3,
   "id": "a0ab4e87-6d34-49fa-b08b-eb289b4e0136",
   "metadata": {},
   "outputs": [
    {
     "name": "stderr",
     "output_type": "stream",
     "text": [
      "23/12/05 21:33:53 WARN SparkSession: Using an existing Spark session; only runtime SQL configurations will take effect.\n",
      "                                                                                \r"
     ]
    }
   ],
   "source": [
    "from pyspark.sql import SparkSession\n",
    "\n",
    "# Create SparkSession object\n",
    "spark = SparkSession.builder.appName(\"FlightDataAnalysis\").getOrCreate()\n",
    "\n",
    "# Read flight data from CSV file from a google bucket\n",
    "df = spark.read.csv(\"gs://flight-data-bucket-551/itineraries_random_2M.csv\", header=True)"
   ]
  },
  {
   "cell_type": "code",
   "execution_count": 4,
   "id": "6b2b6798-bd37-4e14-9ef0-de79eef955f0",
   "metadata": {},
   "outputs": [],
   "source": [
    "# Convertingit into Time Strap\n",
    "def convert_duration(duration):\n",
    "    hours_match = re.search(r'(\\d+)H', duration)\n",
    "    minutes_match = re.search(r'(\\d+)M', duration)\n",
    "    \n",
    "    if hours_match and minutes_match:\n",
    "        hours = int(hours_match.group(1))\n",
    "        minutes = int(minutes_match.group(1))\n",
    "        return datetime.strptime(f\"{hours}:{minutes}\", '%H:%M').time()\n",
    "    else:\n",
    "        return None  # Handle cases where the pattern is not found\n",
    "convert_duration_udf = udf(convert_duration, StringType())\n",
    "df = df.withColumn(\"travelDuration\", convert_duration_udf(\"travelDuration\"))\n"
   ]
  },
  {
   "cell_type": "code",
   "execution_count": 10,
   "id": "d5ead98f-b7a4-4f47-8ddc-464bfa0c082b",
   "metadata": {},
   "outputs": [
    {
     "name": "stderr",
     "output_type": "stream",
     "text": [
      "[Stage 2:>                                                          (0 + 1) / 1]\r"
     ]
    },
    {
     "name": "stdout",
     "output_type": "stream",
     "text": [
      "+-----------------------------------------------------+\n",
      "|travelDuration                                       |\n",
      "+-----------------------------------------------------+\n",
      "|Time: 4 hours, 19 minutes, 0 seconds, 0 microseconds |\n",
      "|Time: 8 hours, 10 minutes, 0 seconds, 0 microseconds |\n",
      "|Time: 11 hours, 54 minutes, 0 seconds, 0 microseconds|\n",
      "|Time: 1 hours, 20 minutes, 0 seconds, 0 microseconds |\n",
      "|Time: 6 hours, 41 minutes, 0 seconds, 0 microseconds |\n",
      "|Time: 2 hours, 6 minutes, 0 seconds, 0 microseconds  |\n",
      "|Time: 7 hours, 28 minutes, 0 seconds, 0 microseconds |\n",
      "|Time: 3 hours, 30 minutes, 0 seconds, 0 microseconds |\n",
      "|Time: 3 hours, 20 minutes, 0 seconds, 0 microseconds |\n",
      "|Time: 1 hours, 51 minutes, 0 seconds, 0 microseconds |\n",
      "|Time: 11 hours, 26 minutes, 0 seconds, 0 microseconds|\n",
      "|Time: 5 hours, 8 minutes, 0 seconds, 0 microseconds  |\n",
      "|Time: 6 hours, 20 minutes, 0 seconds, 0 microseconds |\n",
      "|Time: 5 hours, 55 minutes, 0 seconds, 0 microseconds |\n",
      "|Time: 9 hours, 47 minutes, 0 seconds, 0 microseconds |\n",
      "|Time: 8 hours, 29 minutes, 0 seconds, 0 microseconds |\n",
      "|Time: 8 hours, 49 minutes, 0 seconds, 0 microseconds |\n",
      "|Time: 8 hours, 43 minutes, 0 seconds, 0 microseconds |\n",
      "|Time: 8 hours, 16 minutes, 0 seconds, 0 microseconds |\n",
      "|Time: 7 hours, 55 minutes, 0 seconds, 0 microseconds |\n",
      "+-----------------------------------------------------+\n",
      "only showing top 20 rows\n",
      "\n"
     ]
    },
    {
     "name": "stderr",
     "output_type": "stream",
     "text": [
      "                                                                                \r"
     ]
    }
   ],
   "source": [
    "df.select('travelDuration').show(truncate=False)"
   ]
  },
  {
   "cell_type": "code",
   "execution_count": 5,
   "id": "9f035d7c-a452-4f53-99cc-a0e33796c185",
   "metadata": {},
   "outputs": [
    {
     "name": "stderr",
     "output_type": "stream",
     "text": [
      "                                                                                \r"
     ]
    }
   ],
   "source": [
    "# Applying label Encoding\n",
    "columns_to_encode = [\"startingAirport\", \"destinationAirport\"]\n",
    "indexers = [StringIndexer(inputCol=col, outputCol=f\"{col}_encoded\").fit(df) for col in columns_to_encode]\n",
    "for indexer in indexers:\n",
    "    df = indexer.transform(df)"
   ]
  },
  {
   "cell_type": "code",
   "execution_count": null,
   "id": "9d46d6c9-42a5-4b41-a9b6-10149b45d99b",
   "metadata": {},
   "outputs": [],
   "source": [
    "df.withColumn('startingAirport_encoded',df_encoded.select('startingAirport_encoded'))\n",
    "df.withColumn('destinationAirport_encoded',df_encoded.select('destinationAirport_encoded'))"
   ]
  },
  {
   "cell_type": "code",
   "execution_count": 32,
   "id": "5e45a54f-e92e-439c-a2e0-5d4534abdfb6",
   "metadata": {},
   "outputs": [
    {
     "name": "stderr",
     "output_type": "stream",
     "text": [
      "[Stage 23:================================================>         (5 + 1) / 6]\r"
     ]
    },
    {
     "name": "stdout",
     "output_type": "stream",
     "text": [
      "+-------------------------------------------------------+------+\n",
      "|segmentsAirlineName                                    |count |\n",
      "+-------------------------------------------------------+------+\n",
      "|American Airlines||American Airlines                   |351795|\n",
      "|Delta||Delta                                           |282972|\n",
      "|United||United                                         |261716|\n",
      "|American Airlines                                      |199675|\n",
      "|Delta                                                  |129375|\n",
      "|United                                                 |124487|\n",
      "|Spirit Airlines||Spirit Airlines                       |109533|\n",
      "|JetBlue Airways                                        |92784 |\n",
      "|JetBlue Airways||JetBlue Airways                       |68418 |\n",
      "|Delta||United                                          |37229 |\n",
      "|Alaska Airlines||Alaska Airlines                       |37066 |\n",
      "|United||Delta                                          |36857 |\n",
      "|United||United||Delta                                  |22831 |\n",
      "|American Airlines||American Airlines||American Airlines|22761 |\n",
      "|Delta||Delta||Delta                                    |21274 |\n",
      "|Delta||United||United                                  |19493 |\n",
      "|Spirit Airlines                                        |18372 |\n",
      "|Frontier Airlines||Frontier Airlines                   |16544 |\n",
      "|Alaska Airlines||United                                |14023 |\n",
      "|Alaska Airlines                                        |12481 |\n",
      "+-------------------------------------------------------+------+\n",
      "only showing top 20 rows\n",
      "\n"
     ]
    },
    {
     "name": "stderr",
     "output_type": "stream",
     "text": [
      "                                                                                \r"
     ]
    }
   ],
   "source": [
    " \n",
    " df.groupBy(\"segmentsAirlineName\").agg(count(\"*\").alias(\"count\")).orderBy(\"count\", ascending=False).show(truncate=False)"
   ]
  },
  {
   "cell_type": "code",
   "execution_count": 38,
   "id": "1fe63b71-aaa7-41cf-9b37-3fd32b1dc6d1",
   "metadata": {},
   "outputs": [
    {
     "name": "stdout",
     "output_type": "stream",
     "text": [
      "+----------+\n",
      "|flightDate|\n",
      "+----------+\n",
      "|2022-06-18|\n",
      "|2022-06-24|\n",
      "|2022-06-30|\n",
      "|2022-08-04|\n",
      "|2022-07-20|\n",
      "|2022-04-30|\n",
      "|2022-06-17|\n",
      "|2022-07-03|\n",
      "|2022-05-01|\n",
      "|2022-05-28|\n",
      "|2022-07-05|\n",
      "|2022-07-12|\n",
      "|2022-06-28|\n",
      "|2022-07-13|\n",
      "|2022-06-10|\n",
      "|2022-06-13|\n",
      "|2022-06-02|\n",
      "|2022-05-03|\n",
      "|2022-07-08|\n",
      "|2022-04-30|\n",
      "+----------+\n",
      "only showing top 20 rows\n",
      "\n"
     ]
    },
    {
     "name": "stderr",
     "output_type": "stream",
     "text": [
      "                                                                                \r"
     ]
    }
   ],
   "source": [
    "df.select('flightDate').show()"
   ]
  },
  {
   "cell_type": "code",
   "execution_count": 7,
   "id": "551cf5a6-f1af-41b3-8b8b-ef5805aae551",
   "metadata": {},
   "outputs": [],
   "source": [
    "df = df.withColumn(\"searchDate\", to_date(\"searchDate\", \"yyyy-MM-dd\"))\n",
    "df = df.withColumn(\"flightDate\", to_date(\"flightDate\", \"yyyy-MM-dd\"))"
   ]
  },
  {
   "cell_type": "code",
   "execution_count": 8,
   "id": "e1aeb4b1-ce5f-4e20-b6f6-15e68fe36055",
   "metadata": {},
   "outputs": [],
   "source": [
    "df = df.withColumn(\"searchDate\", df[\"searchDate\"].cast(\"date\"))\n",
    "df = df.withColumn(\"flightDate\", df[\"flightDate\"].cast(\"date\"))\n",
    "# Calculate time gap in days\n",
    "df = df.withColumn(\"time_gap\", datediff(\"flightDate\", \"searchDate\").cast(IntegerType()))"
   ]
  },
  {
   "cell_type": "code",
   "execution_count": 41,
   "id": "ad9cdc00-04c8-4506-9d59-fb2c0973faec",
   "metadata": {},
   "outputs": [
    {
     "name": "stderr",
     "output_type": "stream",
     "text": [
      "[Stage 29:>                                                         (0 + 1) / 1]\r"
     ]
    },
    {
     "name": "stdout",
     "output_type": "stream",
     "text": [
      "+--------+\n",
      "|time_gap|\n",
      "+--------+\n",
      "|20      |\n",
      "|52      |\n",
      "|59      |\n",
      "|55      |\n",
      "|26      |\n",
      "|11      |\n",
      "|51      |\n",
      "|14      |\n",
      "|3       |\n",
      "|40      |\n",
      "|28      |\n",
      "|55      |\n",
      "|17      |\n",
      "|36      |\n",
      "|13      |\n",
      "|57      |\n",
      "|44      |\n",
      "|12      |\n",
      "|56      |\n",
      "|9       |\n",
      "+--------+\n",
      "only showing top 20 rows\n",
      "\n"
     ]
    },
    {
     "name": "stderr",
     "output_type": "stream",
     "text": [
      "                                                                                \r"
     ]
    }
   ],
   "source": [
    "df.select(\"time_gap\").show(truncate=False)"
   ]
  },
  {
   "cell_type": "code",
   "execution_count": 9,
   "id": "c7ad0b03-3ff2-4063-9f80-f088f93508cc",
   "metadata": {},
   "outputs": [],
   "source": [
    "fdf_nonstop = df.filter(df['isNonStop'] == True)"
   ]
  },
  {
   "cell_type": "code",
   "execution_count": 43,
   "id": "8abf224c-c63e-4c97-8cd9-d84b41892ff4",
   "metadata": {},
   "outputs": [
    {
     "name": "stderr",
     "output_type": "stream",
     "text": [
      "[Stage 30:================================================>         (5 + 1) / 6]\r"
     ]
    },
    {
     "name": "stdout",
     "output_type": "stream",
     "text": [
      "+-------------------+------+\n",
      "|segmentsAirlineName|count |\n",
      "+-------------------+------+\n",
      "|American Airlines  |199675|\n",
      "|Delta              |129375|\n",
      "|United             |124487|\n",
      "|JetBlue Airways    |92784 |\n",
      "|Spirit Airlines    |18372 |\n",
      "|Alaska Airlines    |12481 |\n",
      "|Frontier Airlines  |11850 |\n",
      "+-------------------+------+\n",
      "\n"
     ]
    },
    {
     "name": "stderr",
     "output_type": "stream",
     "text": [
      "                                                                                \r"
     ]
    }
   ],
   "source": [
    " fdf_nonstop.groupBy(\"segmentsAirlineName\").agg(count(\"*\").alias(\"count\")).orderBy(\"count\", ascending=False).show(truncate=False)"
   ]
  },
  {
   "cell_type": "code",
   "execution_count": 10,
   "id": "d2a6f621-6d03-4bdc-8198-c237c842bf6e",
   "metadata": {},
   "outputs": [
    {
     "name": "stderr",
     "output_type": "stream",
     "text": [
      "                                                                                \r"
     ]
    },
    {
     "name": "stdout",
     "output_type": "stream",
     "text": [
      "+-------------------------------------------------------+------+\n",
      "|segmentsAirlineName                                    |count |\n",
      "+-------------------------------------------------------+------+\n",
      "|American Airlines||American Airlines                   |351795|\n",
      "|Delta||Delta                                           |282972|\n",
      "|United||United                                         |261716|\n",
      "|Spirit Airlines||Spirit Airlines                       |109533|\n",
      "|JetBlue Airways||JetBlue Airways                       |68418 |\n",
      "|Delta||United                                          |37229 |\n",
      "|Alaska Airlines||Alaska Airlines                       |37066 |\n",
      "|United||Delta                                          |36857 |\n",
      "|United||United||Delta                                  |22831 |\n",
      "|American Airlines||American Airlines||American Airlines|22761 |\n",
      "|Delta||Delta||Delta                                    |21274 |\n",
      "|Delta||United||United                                  |19493 |\n",
      "|Frontier Airlines||Frontier Airlines                   |16544 |\n",
      "|Alaska Airlines||United                                |14023 |\n",
      "|United||Alaska Airlines                                |11825 |\n",
      "|United||United||United                                 |10970 |\n",
      "|Delta||Alaska Airlines                                 |10342 |\n",
      "|Alaska Airlines||Delta                                 |9034  |\n",
      "|Sun Country Airlines||Sun Country Airlines             |6804  |\n",
      "|Alaska Airlines||United||United                        |6090  |\n",
      "+-------------------------------------------------------+------+\n",
      "only showing top 20 rows\n",
      "\n"
     ]
    }
   ],
   "source": [
    "fdf_stops = df.filter(df['isNonStop'] == False)\n",
    "fdf_stops.groupBy(\"segmentsAirlineName\").agg(count(\"*\").alias(\"count\")).orderBy(\"count\", ascending=False).show(truncate=False)"
   ]
  },
  {
   "cell_type": "code",
   "execution_count": 11,
   "id": "820ed62c-49d4-4c25-9898-417e8ae2c81b",
   "metadata": {},
   "outputs": [],
   "source": [
    "fdf_stops_same_airline = df.filter(size(array_distinct(split(col(\"segmentsAirlineName\"), \"\\|\\|\"))) == 1)"
   ]
  },
  {
   "cell_type": "code",
   "execution_count": 48,
   "id": "5aeb6134-937c-4c81-b0fd-1d9580467ff0",
   "metadata": {},
   "outputs": [
    {
     "name": "stderr",
     "output_type": "stream",
     "text": [
      "[Stage 36:================================================>         (5 + 1) / 6]\r"
     ]
    },
    {
     "name": "stdout",
     "output_type": "stream",
     "text": [
      "+-------------------------------------------------------+------+\n",
      "|segmentsAirlineName                                    |count |\n",
      "+-------------------------------------------------------+------+\n",
      "|American Airlines||American Airlines                   |351795|\n",
      "|Delta||Delta                                           |282972|\n",
      "|United||United                                         |261716|\n",
      "|American Airlines                                      |199675|\n",
      "|Delta                                                  |129375|\n",
      "|United                                                 |124487|\n",
      "|Spirit Airlines||Spirit Airlines                       |109533|\n",
      "|JetBlue Airways                                        |92784 |\n",
      "|JetBlue Airways||JetBlue Airways                       |68418 |\n",
      "|Alaska Airlines||Alaska Airlines                       |37066 |\n",
      "|American Airlines||American Airlines||American Airlines|22761 |\n",
      "|Delta||Delta||Delta                                    |21274 |\n",
      "|Spirit Airlines                                        |18372 |\n",
      "|Frontier Airlines||Frontier Airlines                   |16544 |\n",
      "|Alaska Airlines                                        |12481 |\n",
      "|Frontier Airlines                                      |11850 |\n",
      "|United||United||United                                 |10970 |\n",
      "|Sun Country Airlines||Sun Country Airlines             |6804  |\n",
      "|Spirit Airlines||Spirit Airlines||Spirit Airlines      |4083  |\n",
      "|Alaska Airlines||Alaska Airlines||Alaska Airlines      |2912  |\n",
      "+-------------------------------------------------------+------+\n",
      "only showing top 20 rows\n",
      "\n"
     ]
    },
    {
     "name": "stderr",
     "output_type": "stream",
     "text": [
      "                                                                                \r"
     ]
    }
   ],
   "source": [
    "fdf_stops_same_airline.groupBy(\"segmentsAirlineName\").agg(count(\"*\").alias(\"count\")).orderBy(\"count\", ascending=False).show(truncate=False)"
   ]
  },
  {
   "cell_type": "code",
   "execution_count": 12,
   "id": "3a8ceee8-66e8-4c1e-a0e3-bce8f676ee75",
   "metadata": {},
   "outputs": [],
   "source": [
    "fdf_stops_different_airline = df.filter(size(array_distinct(split(col(\"segmentsAirlineName\"), \"\\|\\|\"))) > 1)"
   ]
  },
  {
   "cell_type": "code",
   "execution_count": null,
   "id": "92b19f3a-3225-4c54-9754-1f03702c0dee",
   "metadata": {},
   "outputs": [],
   "source": [
    "fdf_stops_different_airline.groupBy(\"segmentsAirlineName\").agg(count(\"*\").alias(\"count\")).orderBy(\"count\", ascending=False).show(truncate=False)"
   ]
  },
  {
   "cell_type": "code",
   "execution_count": 16,
   "id": "3064f649-4811-42b3-ad68-5e1f32cade69",
   "metadata": {},
   "outputs": [
    {
     "name": "stderr",
     "output_type": "stream",
     "text": [
      "                                                                                \r"
     ]
    }
   ],
   "source": [
    "#Saving the  NonStopFlights Data Into CSV FIle For later use\n",
    "fdf_nonstop.write.csv(\"gs://flight-data-bucket-551/processedcsv\",header=True, mode=\"overwrite\")\n"
   ]
  },
  {
   "cell_type": "code",
   "execution_count": 13,
   "id": "0f04b54c-678c-4300-ae68-ae40e72d4a50",
   "metadata": {
    "tags": []
   },
   "outputs": [
    {
     "name": "stderr",
     "output_type": "stream",
     "text": [
      "23/12/05 21:37:51 WARN package: Truncated the string representation of a plan since it was too large. This behavior can be adjusted by setting 'spark.sql.debug.maxToStringFields'.\n",
      "                                                                                \r"
     ]
    }
   ],
   "source": [
    "#Saving the  NonStopFlights Data Into Parquet file For later use\n",
    "fdf_nonstop.write.parquet(\"gs://flight-data-bucket-551/processed_data\", mode=\"overwrite\")\n"
   ]
  },
  {
   "cell_type": "code",
   "execution_count": 14,
   "id": "ff3a0204-bda7-4207-8d47-dbc08ea83586",
   "metadata": {},
   "outputs": [
    {
     "name": "stderr",
     "output_type": "stream",
     "text": [
      "                                                                                \r"
     ]
    }
   ],
   "source": [
    "#Saving the  StopFlights Data Into Parquet file For later use\n",
    "fdf_stops_different_airline.write.parquet(\"gs://flight-data-bucket-551/processed_data_fdf_stops_different_airline\", mode=\"overwrite\")"
   ]
  },
  {
   "cell_type": "code",
   "execution_count": 15,
   "id": "a25103f5-0cd0-4999-80a0-b1d3074a9d36",
   "metadata": {},
   "outputs": [
    {
     "name": "stderr",
     "output_type": "stream",
     "text": [
      "                                                                                \r"
     ]
    }
   ],
   "source": [
    "#Saving the  NonStopFlights Data Into Parquet file For later use\n",
    "fdf_stops_same_airline.write.parquet(\"gs://flight-data-bucket-551/processed_data_fdf_stops_same_airline\", mode=\"overwrite\")"
   ]
  }
 ],
 "metadata": {
  "kernelspec": {
   "display_name": "PySpark",
   "language": "python",
   "name": "pyspark"
  },
  "language_info": {
   "codemirror_mode": {
    "name": "ipython",
    "version": 3
   },
   "file_extension": ".py",
   "mimetype": "text/x-python",
   "name": "python",
   "nbconvert_exporter": "python",
   "pygments_lexer": "ipython3",
   "version": "3.10.8"
  }
 },
 "nbformat": 4,
 "nbformat_minor": 5
}
